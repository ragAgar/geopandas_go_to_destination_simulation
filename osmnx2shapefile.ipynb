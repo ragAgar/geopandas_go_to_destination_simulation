{
 "cells": [
  {
   "cell_type": "code",
   "execution_count": 1,
   "metadata": {},
   "outputs": [],
   "source": [
    "import osmnx as ox"
   ]
  },
  {
   "cell_type": "code",
   "execution_count": 7,
   "metadata": {},
   "outputs": [],
   "source": [
    "#from some place name, create a GeoDataFrame containing the geometry of the place\n",
    "city = ox.graph_from_place('Tsukuba, Ibaraki, Japan', network_type='drive')\n",
    "# save the retrieved data as a shapefile\n",
    "G_projected = ox.project_graph(city)\n",
    "ox.save_graph_shapefile(G_projected)"
   ]
  },
  {
   "cell_type": "code",
   "execution_count": 9,
   "metadata": {},
   "outputs": [],
   "source": [
    "# from some place name, create a GeoDataFrame containing the geometry of the place\n",
    "city = ox.graph_from_place('Tsukubamirai, Ibaraki, Japan', network_type='drive')\n",
    "# save the retrieved data as a shapefile\n",
    "G_projected = ox.project_graph(city)\n",
    "ox.save_graph_shapefile(G_projected, filename=\"./tsukubamirai_graph/\")"
   ]
  },
  {
   "cell_type": "code",
   "execution_count": 6,
   "metadata": {},
   "outputs": [
    {
     "data": {
      "text/plain": [
       "<networkx.classes.multidigraph.MultiDiGraph at 0x1200b2f98>"
      ]
     },
     "execution_count": 6,
     "metadata": {},
     "output_type": "execute_result"
    }
   ],
   "source": []
  },
  {
   "cell_type": "code",
   "execution_count": null,
   "metadata": {},
   "outputs": [],
   "source": []
  }
 ],
 "metadata": {
  "kernelspec": {
   "display_name": "Python 3",
   "language": "python",
   "name": "python3"
  },
  "language_info": {
   "codemirror_mode": {
    "name": "ipython",
    "version": 3
   },
   "file_extension": ".py",
   "mimetype": "text/x-python",
   "name": "python",
   "nbconvert_exporter": "python",
   "pygments_lexer": "ipython3",
   "version": "3.6.7"
  }
 },
 "nbformat": 4,
 "nbformat_minor": 2
}
